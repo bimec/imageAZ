{
 "cells": [
  {
   "cell_type": "code",
   "execution_count": 1,
   "id": "0c4aa41d",
   "metadata": {
    "lines_to_next_cell": 0,
    "scrolled": true
   },
   "outputs": [
    {
     "data": {
      "text/plain": [
       "'\\nCreated on Fri Jul  5 11:39:29 2024\\n\\ntitle: GUI dataset analysis software\\ndescription: GUI software for implementing, analysing and validating the solution Semi-supervised approach for segmenting tumours in MRI Images.\\n\\n@author: wickramw\\n@github: https://github.com/bimec/image-AZ/tree/deployment\\n'"
      ]
     },
     "execution_count": 1,
     "metadata": {},
     "output_type": "execute_result"
    }
   ],
   "source": [
    "\"\"\"\n",
    "Created on Fri Jul  5 11:39:29 2024\n",
    "\n",
    "title: GUI dataset analysis software\n",
    "description: GUI software for implementing, analysing and validating the solution Semi-supervised approach for segmenting tumours in MRI Images.\n",
    "\n",
    "@author: wickramw\n",
    "@github: https://github.com/bimec/image-AZ/tree/deployment\n",
    "\"\"\""
   ]
  },
  {
   "cell_type": "code",
   "execution_count": 1,
   "id": "2df7f963-8e71-4ee4-8059-d2e7b2abf626",
   "metadata": {},
   "outputs": [
    {
     "name": "stdout",
     "output_type": "stream",
     "text": [
      "GUI Imported\n"
     ]
    }
   ],
   "source": [
    "from PyQt5.QtGui import QPixmap, QGuiApplication\n",
    "from PyQt5.QtCore import  Qt\n",
    "from PyQt5.QtWidgets import QMainWindow, QApplication, QMessageBox, QFileDialog, QGraphicsScene, QInputDialog, QWidget, QGraphicsPixmapItem\n",
    "from PyQt5 import uic, QtCore, QtWidgets\n",
    "\n",
    "import sys\n",
    "\n",
    "# For Ubuntu\n",
    "import os\n",
    "os.environ[\"XDG_SESSION_TYPE\"] = \"xcb\"\n",
    "\n",
    "import GUI.main as GUI\n",
    "print(\"GUI Imported\")"
   ]
  },
  {
   "cell_type": "code",
   "execution_count": 2,
   "id": "232a0896-7959-4cc8-b2a4-e6367b3e6148",
   "metadata": {},
   "outputs": [
    {
     "name": "stdout",
     "output_type": "stream",
     "text": [
      "App Closed!\n"
     ]
    }
   ],
   "source": [
    "# Open the software\n",
    "app = QApplication(sys.argv)\n",
    "window = GUI.UI()\n",
    "window.setWindowTitle(\"Image-AZ GUI\")\n",
    "window.show() \n",
    "app.exec()\n",
    "print(\"App Closed!\")"
   ]
  },
  {
   "cell_type": "code",
   "execution_count": null,
   "id": "6d479e44-95b2-4aa5-92d3-670e582be73e",
   "metadata": {},
   "outputs": [],
   "source": []
  }
 ],
 "metadata": {
  "jupytext": {
   "cell_metadata_filter": "title,-all",
   "encoding": "# -*- coding: utf-8 -*-",
   "main_language": "python",
   "notebook_metadata_filter": "-all"
  },
  "kernelspec": {
   "display_name": "Python 3 (ipykernel)",
   "language": "python",
   "name": "python3"
  },
  "language_info": {
   "codemirror_mode": {
    "name": "ipython",
    "version": 3
   },
   "file_extension": ".py",
   "mimetype": "text/x-python",
   "name": "python",
   "nbconvert_exporter": "python",
   "pygments_lexer": "ipython3",
   "version": "3.10.12"
  }
 },
 "nbformat": 4,
 "nbformat_minor": 5
}
