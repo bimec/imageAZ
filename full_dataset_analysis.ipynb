{
 "cells": [
  {
   "cell_type": "code",
   "execution_count": null,
   "id": "0c4aa41d",
   "metadata": {
    "lines_to_next_cell": 0,
    "scrolled": true
   },
   "outputs": [],
   "source": [
    "\"\"\"\n",
    "Created on Fri Jul  5 11:39:29 2024\n",
    "\n",
    "title: \n",
    "description:\n",
    "\n",
    "@author: wickramw\n",
    "@github: https://github.com/dilshan-n-wickramarachchi\n",
    "\"\"\"\n",
    "# print('hello')\n",
    "\n",
    "import nibabel as nib\n",
    "import cv2\n",
    "import os\n",
    "import numpy as np\n",
    "import csv\n",
    "\n",
    "\n",
    "# Algorithms\n",
    "print(\"Loading modules and data..!\")\n",
    "from FullDatasetAnalysis.ROIProcessing import ROIProcessing\n",
    "from FullDatasetAnalysis.TumourSegmenting import segmentTumour\n",
    "# exit()\n",
    "\n",
    "# ============================================================================="
   ]
  },
  {
   "cell_type": "code",
   "execution_count": null,
   "id": "926705bb-8557-4c30-b9fd-dcab8fbdb23a",
   "metadata": {},
   "outputs": [],
   "source": [
    "dataset = './dataset/train/21_baseline_rare.nii.gz'\n",
    "dataset_labelled = './dataset/train_labels/21_baseline_rare.nii.gz'\n",
    "model_path = r\"./model/MRI_seg_best.pt\""
   ]
  },
  {
   "cell_type": "code",
   "execution_count": null,
   "id": "01ce58d4",
   "metadata": {
    "lines_to_next_cell": 0,
    "title": "Load dataset"
   },
   "outputs": [],
   "source": [
    "# =============================================================================\n",
    "# MRI\n",
    "# f_mri  = r\"C:/Users/wickramw/OneDrive - London South Bank University/Imaging-AZ/image-AZ-git/image-AZ/dataset/train/21_baseline_rare.nii.gz\"\n",
    "# f_mri = r\"{}\".format(input(\"Enter the path for image: \"))\n",
    "mri_data = nib.load(dataset)\n",
    "mri_data = mri_data.get_fdata()\n",
    "\n",
    "\n",
    "# Masks\n",
    "# f_mask = r\"C:/Users/wickramw/OneDrive - London South Bank University/Imaging-AZ/image-AZ-git/image-AZ/dataset/train_labels/21_baseline_rare.nii.gz\"\n",
    "# f_mask = r\"{}\".format(input(\"Enter the path for label: \"))\n",
    "# f_mask = f_mask = f_mri.split(\"train\")[0] + \"train_labels\" +f_mri.split(\"train\")[1]\n",
    "mask_data = nib.load(dataset_labelled)\n",
    "mask_data = mask_data.get_fdata()\n",
    "\n",
    "# ============================================================================="
   ]
  },
  {
   "cell_type": "code",
   "execution_count": null,
   "id": "a16cbc51",
   "metadata": {
    "lines_to_next_cell": 0,
    "title": "Save data as images"
   },
   "outputs": [],
   "source": [
    "# =============================================================================\n",
    "print(\"Saving raw images..!\")\n",
    "save_folder = r'./FullDatasetAnalysis'\n",
    "try:\n",
    "    save_folder_output = save_folder + '/output'\n",
    "    os.mkdir(save_folder_output)\n",
    "except:\n",
    "    pass\n",
    "\n",
    "# save MRI images\n",
    "try:\n",
    "    save_folder_output_rawMri = save_folder_output + '/rawMRI'\n",
    "    os.mkdir(save_folder_output_rawMri)\n",
    "    \n",
    "    for i in range(mri_data.shape[-1]):\n",
    "        img_name = save_folder_output_rawMri + '/rawImg_Z{}.png'.format(i)\n",
    "        img_save = mri_data[:,:,i]/mri_data[:,:,i].max()*255\n",
    "        img_save = img_save.astype(np.uint8)\n",
    "        cv2.imwrite(img_name, img_save)\n",
    "except Exception as e:\n",
    "    print(e)\n",
    "\n",
    "# save Mask images\n",
    "try:\n",
    "    save_folder_output_rawMask = save_folder_output + '/rawMask'\n",
    "    os.mkdir(save_folder_output_rawMask)\n",
    "    \n",
    "    for i in range(mask_data.shape[-1]):\n",
    "        img_name = save_folder_output_rawMask + '/maskImg_Z{}.png'.format(i)\n",
    "        img_save = mask_data[:,:,i]/mask_data[:,:,i].max()*255\n",
    "        img_save = img_save.astype(np.uint8)\n",
    "        cv2.imwrite(img_name, img_save)\n",
    "except Exception as e:\n",
    "    print(e)\n",
    "\n",
    "# ============================================================================="
   ]
  },
  {
   "cell_type": "code",
   "execution_count": null,
   "id": "9b5761df",
   "metadata": {
    "lines_to_next_cell": 0,
    "title": "Calculate ROI"
   },
   "outputs": [],
   "source": [
    "# =============================================================================\n",
    "print(\"Calculating ROIs..!\")\n",
    "roiProcessor = ROIProcessing()\n",
    "roi_data = np.zeros_like(mri_data)\n",
    "for i in range(mri_data.shape[-1]):\n",
    "    img = roiProcessor.prepImage(mri_data[:,:,i])    # Preprocess\n",
    "    cluster_img = roiProcessor.applyClustering(img)  # Clustering \n",
    "    img_c = roiProcessor.enhanceROI(cluster_img)     # Enhance ROI\n",
    "    roi_mask = roiProcessor.getROIMask(img_c)        # Get ROI Mask\n",
    "    img_ROI = roiProcessor.applyMask(roi_mask)       # Get ROI Image   \n",
    "    roi_data[:,:,i] = img_ROI\n",
    "\n",
    "# ============================================================================="
   ]
  },
  {
   "cell_type": "code",
   "execution_count": null,
   "id": "fceb0f54",
   "metadata": {
    "lines_to_next_cell": 0,
    "title": "Save ROI"
   },
   "outputs": [],
   "source": [
    "# =============================================================================\n",
    "print(\"Saving ROIs..!\")\n",
    "# save ROI images\n",
    "try:\n",
    "    save_folder_output_roiMri = save_folder_output + '/roiMRI'\n",
    "    os.mkdir(save_folder_output_roiMri)\n",
    "    \n",
    "    for i in range(roi_data.shape[-1]):\n",
    "        img_name = save_folder_output_roiMri + '/roiImg_Z{}.png'.format(i)\n",
    "        img_save = roi_data[:,:,i]/roi_data[:,:,i].max()*255\n",
    "        img_save = img_save.astype(np.uint8)\n",
    "        cv2.imwrite(img_name, img_save)\n",
    "except Exception as e:\n",
    "    print(e)\n",
    "\n",
    "# ============================================================================="
   ]
  },
  {
   "cell_type": "code",
   "execution_count": null,
   "id": "80cff262",
   "metadata": {
    "lines_to_next_cell": 0,
    "title": "Predict Tumour"
   },
   "outputs": [],
   "source": [
    "# =============================================================================\n",
    "print(\"Looking for tumours..\")\n",
    "# load segmentTumour\n",
    "# model_path = r\"MRI_seg_best.pt\"\n",
    "model = segmentTumour(model_path)\n",
    "\n",
    "x_input = []\n",
    "for i in range(roi_data.shape[-1]):\n",
    "    image = cv2.cvtColor(roi_data[:,:,i].astype(np.uint8), cv2.COLOR_GRAY2RGB)\n",
    "    x_input.append(image)\n",
    "results = model.predTumour(x_input)\n",
    "\n",
    "# Segmentation\n",
    "summary = model.segmentSummary()\n",
    "       \n",
    "# DICE Score\n",
    "dice = model.diceScore(mask_data)\n",
    "\n",
    "# Tumour plots\n",
    "predImg = model.tumourPlots()\n",
    "\n",
    "# Tumour features\n",
    "tfeatures = model.tumourFeatures()\n",
    "\n",
    "\n",
    "\n",
    "# ============================================================================="
   ]
  },
  {
   "cell_type": "code",
   "execution_count": null,
   "id": "8bbb6e0c",
   "metadata": {
    "title": "Save results"
   },
   "outputs": [],
   "source": [
    "# =============================================================================\n",
    "## results summary\n",
    "# summary csv   : imgName, box, class, confidence, class name, segments\n",
    "# dice_score\n",
    "# image: pred with tumour\n",
    "\n",
    "print(\"Saving Predictions..!\")\n",
    "\n",
    "try:\n",
    "    # CSVs\n",
    "    save_folder_output_resultsMri = save_folder_output + '/resultsMRI'\n",
    "    os.mkdir(save_folder_output_resultsMri)\n",
    "    \n",
    "    # summary csv\n",
    "    keys = summary[0].keys()\n",
    "    with open(save_folder_output_resultsMri + '/summary.csv', 'w', newline='') as f:\n",
    "        dict_writer = csv.DictWriter(f, keys)\n",
    "        dict_writer.writeheader()\n",
    "        dict_writer.writerows(summary)\n",
    "    \n",
    "    # dice_score\n",
    "    keys = dice[0].keys()\n",
    "    with open(save_folder_output_resultsMri + '/dice_score.csv', 'w', newline='') as f:\n",
    "        dict_writer = csv.DictWriter(f, keys)\n",
    "        dict_writer.writeheader()\n",
    "        dict_writer.writerows(dice)\n",
    "    \n",
    "    # # Segmentation images\n",
    "    save_folder_output_resultspredImg = save_folder_output + '/predImg'\n",
    "    os.mkdir(save_folder_output_resultspredImg)\n",
    "    \n",
    "    # predImages\n",
    "    for i in range(len(predImg)):\n",
    "        img_name = save_folder_output_resultspredImg + '/predImg_Z{}.png'.format(i)\n",
    "        cv2.imwrite(img_name, predImg[i]['predImg'])\n",
    "    \n",
    "except Exception as e:\n",
    "    print(e)"
   ]
  },
  {
   "cell_type": "code",
   "execution_count": null,
   "id": "b7cec7cd-5cf1-4016-9067-6b0c12f344fa",
   "metadata": {},
   "outputs": [],
   "source": []
  },
  {
   "cell_type": "code",
   "execution_count": null,
   "id": "b266f5b2-b045-428c-b9ae-88c5db321b0e",
   "metadata": {},
   "outputs": [],
   "source": []
  },
  {
   "cell_type": "code",
   "execution_count": null,
   "id": "df8d758d-b5d7-4d5b-bf00-8e661fee85e2",
   "metadata": {},
   "outputs": [],
   "source": []
  },
  {
   "cell_type": "code",
   "execution_count": 1,
   "id": "12537d66-dcfa-43f3-ae71-cc7c23b0d725",
   "metadata": {},
   "outputs": [],
   "source": [
    "import sys"
   ]
  },
  {
   "cell_type": "code",
   "execution_count": 2,
   "id": "2df7f963-8e71-4ee4-8059-d2e7b2abf626",
   "metadata": {},
   "outputs": [],
   "source": [
    "from PyQt5.QtGui import QPixmap, QGuiApplication\n",
    "from PyQt5.QtCore import  Qt\n",
    "from PyQt5.QtWidgets import QMainWindow, QApplication, QMessageBox, QFileDialog, QGraphicsScene, QInputDialog, QWidget, QGraphicsPixmapItem\n",
    "from PyQt5 import uic, QtCore, QtWidgets"
   ]
  },
  {
   "cell_type": "code",
   "execution_count": 3,
   "id": "6fbdab97-788b-4771-9a2f-78a651b9c959",
   "metadata": {},
   "outputs": [],
   "source": [
    "import GUI.main as GUI"
   ]
  },
  {
   "cell_type": "code",
   "execution_count": null,
   "id": "19e23b1b-b542-4e24-af1e-9e55aa689d56",
   "metadata": {},
   "outputs": [],
   "source": []
  },
  {
   "cell_type": "code",
   "execution_count": null,
   "id": "fcbc52a8-146b-4778-8739-552e7ffa92a6",
   "metadata": {},
   "outputs": [],
   "source": []
  },
  {
   "cell_type": "code",
   "execution_count": null,
   "id": "232a0896-7959-4cc8-b2a4-e6367b3e6148",
   "metadata": {},
   "outputs": [],
   "source": [
    "app = QApplication(sys.argv)\n",
    "window = GUI.UI()\n",
    "window.setWindowTitle(\"Radar Network Data Viewer\")\n",
    "window.show() \n",
    "app.exec()"
   ]
  },
  {
   "cell_type": "code",
   "execution_count": null,
   "id": "966b4534-2ffb-466a-919d-fcbe4a6a12e6",
   "metadata": {},
   "outputs": [],
   "source": []
  },
  {
   "cell_type": "code",
   "execution_count": null,
   "id": "9ca31218-5293-4ac9-995e-9569c3322d7f",
   "metadata": {},
   "outputs": [],
   "source": []
  },
  {
   "cell_type": "code",
   "execution_count": null,
   "id": "fab5ec3c-4540-4f9c-b84b-af0f2424d265",
   "metadata": {},
   "outputs": [],
   "source": []
  },
  {
   "cell_type": "code",
   "execution_count": null,
   "id": "fdc89cb2-8416-430b-827e-eb0f5a404d32",
   "metadata": {},
   "outputs": [],
   "source": []
  },
  {
   "cell_type": "code",
   "execution_count": null,
   "id": "a1c230dc-4cd1-4fff-a279-c38c50135dcd",
   "metadata": {},
   "outputs": [],
   "source": []
  }
 ],
 "metadata": {
  "jupytext": {
   "cell_metadata_filter": "title,-all",
   "encoding": "# -*- coding: utf-8 -*-",
   "main_language": "python",
   "notebook_metadata_filter": "-all"
  },
  "kernelspec": {
   "display_name": "Python 3 (ipykernel)",
   "language": "python",
   "name": "python3"
  },
  "language_info": {
   "codemirror_mode": {
    "name": "ipython",
    "version": 3
   },
   "file_extension": ".py",
   "mimetype": "text/x-python",
   "name": "python",
   "nbconvert_exporter": "python",
   "pygments_lexer": "ipython3",
   "version": "3.12.4"
  }
 },
 "nbformat": 4,
 "nbformat_minor": 5
}
