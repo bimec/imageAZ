{
 "cells": [
  {
   "cell_type": "code",
   "execution_count": null,
   "id": "0c4aa41d",
   "metadata": {
    "lines_to_next_cell": 0,
    "scrolled": true
   },
   "outputs": [],
   "source": [
    "\"\"\"\n",
    "Created on Fri Jul  5 11:39:29 2024\n",
    "\n",
    "title: Full data analysis\n",
    "description: Implementation of the solution Semi-supervised approach for segmenting tumours in MRI Images.\n",
    "\n",
    "@author: wickramw\n",
    "@github: https://github.com/bimec/image-AZ/tree/deployment\n",
    "\"\"\""
   ]
  },
  {
   "cell_type": "code",
   "execution_count": 1,
   "id": "db0cf1c6-c03a-4812-8805-6f31c23d8fcf",
   "metadata": {},
   "outputs": [
    {
     "name": "stdout",
     "output_type": "stream",
     "text": [
      "Importing..!\n",
      "Algorithms and Models Imported!\n"
     ]
    }
   ],
   "source": [
    "# =============================================================================\n",
    "import nibabel as nib\n",
    "import cv2\n",
    "import os\n",
    "import numpy as np\n",
    "import csv\n",
    "from pathlib import Path\n",
    "\n",
    "# Algorithms\n",
    "print(\"Importing..!\")\n",
    "from Algorithms.ROIProcessing import ROIProcessing\n",
    "from Algorithms.TumourSegmenting import segmentTumour\n",
    "\n",
    "model_path = Path(\"./Algorithms/MRI_seg_best.pt\")\n",
    "model = segmentTumour(model_path)\n",
    "print(\"Algorithms and Models Imported!\")"
   ]
  },
  {
   "cell_type": "code",
   "execution_count": 2,
   "id": "926705bb-8557-4c30-b9fd-dcab8fbdb23a",
   "metadata": {},
   "outputs": [],
   "source": [
    "# =============================================================================\n",
    "# Set the location for the dataset\n",
    "dataset = Path('./dataset/train/21_baseline_rare.nii.gz')                  # MRI images to predict tumours\n",
    "dataset_labelled = Path('./dataset/train_labels/21_baseline_rare.nii.gz')  # Groud truth label to validate the algorithm"
   ]
  },
  {
   "cell_type": "code",
   "execution_count": 3,
   "id": "01ce58d4",
   "metadata": {
    "lines_to_next_cell": 0,
    "title": "Load dataset"
   },
   "outputs": [
    {
     "name": "stdout",
     "output_type": "stream",
     "text": [
      "MRI and Mask data loaded!\n"
     ]
    }
   ],
   "source": [
    "# =============================================================================\n",
    "# MRI\n",
    "# f_mri  = r\"C:/Users/wickramw/OneDrive - London South Bank University/Imaging-AZ/image-AZ-git/image-AZ/dataset/train/21_baseline_rare.nii.gz\"\n",
    "# f_mri = r\"{}\".format(input(\"Enter the path for image: \"))\n",
    "mri_data = nib.load(dataset)\n",
    "mri_data = mri_data.get_fdata()\n",
    "\n",
    "\n",
    "# Masks\n",
    "# f_mask = r\"C:/Users/wickramw/OneDrive - London South Bank University/Imaging-AZ/image-AZ-git/image-AZ/dataset/train_labels/21_baseline_rare.nii.gz\"\n",
    "# f_mask = r\"{}\".format(input(\"Enter the path for label: \"))\n",
    "# f_mask = f_mask = f_mri.split(\"train\")[0] + \"train_labels\" +f_mri.split(\"train\")[1]\n",
    "mask_data = nib.load(dataset_labelled)\n",
    "mask_data = mask_data.get_fdata()\n",
    "\n",
    "print(\"MRI and Mask data loaded!\")"
   ]
  },
  {
   "cell_type": "code",
   "execution_count": null,
   "id": "a16cbc51",
   "metadata": {
    "lines_to_next_cell": 0,
    "title": "Save data as images"
   },
   "outputs": [],
   "source": [
    "# =============================================================================\n",
    "# Saving Raw and Mask Images\n",
    "save_folder = Path('.')\n",
    "save_folder_output = Path(save_folder, 'output')\n",
    "\n",
    "try:\n",
    "    save_folder_output.mkdir()\n",
    "except:\n",
    "    pass\n",
    "\n",
    "# save MRI images\n",
    "try:\n",
    "    save_folder_output_rawMri = Path(save_folder_output, 'rawMRI')\n",
    "    save_folder_output_rawMri.mkdir()\n",
    "    \n",
    "    for i in range(mri_data.shape[-1]):\n",
    "        img_name = Path(save_folder_output_rawMri, 'rawImg_Z{}.png'.format(i))\n",
    "    \n",
    "        img_save = mri_data[:,:,i]/mri_data[:,:,i].max()*255 if(mri_data[:,:,i].max()>0) else mri_data[:,:,i]\n",
    "\n",
    "        img_save = img_save.astype(np.uint8)\n",
    "        cv2.imwrite(img_name, img_save)\n",
    "        \n",
    "    print(\"Raw Images Saved!\")\n",
    "except Exception as e:\n",
    "    print(e)\n",
    "\n",
    "# save Mask images\n",
    "try:\n",
    "    save_folder_output_rawMask = Path(save_folder_output, 'rawMask')\n",
    "    save_folder_output_rawMask.mkdir()\n",
    "    \n",
    "    for i in range(mask_data.shape[-1]):\n",
    "        img_name = Path(save_folder_output_rawMask, 'maskImg_Z{}.png'.format(i))\n",
    "        img_save = mask_data[:,:,i]/mask_data[:,:,i].max()*255 if(mask_data[:,:,i].max()>0) else mask_data[:,:,i]\n",
    "        img_save = img_save.astype(np.uint8)\n",
    "        cv2.imwrite(img_name, img_save)\n",
    "        \n",
    "    print(\"Mask Images Saved!\")\n",
    "except Exception as e:\n",
    "    print(e)"
   ]
  },
  {
   "cell_type": "code",
   "execution_count": 4,
   "id": "9b5761df",
   "metadata": {
    "lines_to_next_cell": 0,
    "title": "Calculate ROI"
   },
   "outputs": [
    {
     "name": "stdout",
     "output_type": "stream",
     "text": [
      "ROIs Calculated!\n"
     ]
    }
   ],
   "source": [
    "# =============================================================================\n",
    "# Calculating ROIs\n",
    "roiProcessor = ROIProcessing()\n",
    "roi_data = np.zeros_like(mri_data)\n",
    "for i in range(mri_data.shape[-1]):\n",
    "    img = roiProcessor.prepImage(mri_data[:,:,i])    # Preprocess\n",
    "    cluster_img = roiProcessor.applyClustering(img)  # Clustering \n",
    "    img_c = roiProcessor.enhanceROI(cluster_img)     # Enhance ROI\n",
    "    roi_mask = roiProcessor.getROIMask(img_c)        # Get ROI Mask\n",
    "    img_ROI = roiProcessor.applyMask(roi_mask)       # Get ROI Image   \n",
    "    roi_data[:,:,i] = img_ROI\n",
    "print(\"ROIs Calculated!\")"
   ]
  },
  {
   "cell_type": "code",
   "execution_count": null,
   "id": "fceb0f54",
   "metadata": {
    "lines_to_next_cell": 0,
    "title": "Save ROI"
   },
   "outputs": [],
   "source": [
    "# =============================================================================\n",
    "# save ROI images\n",
    "save_folder = Path('.')\n",
    "save_folder_output = Path(save_folder, 'output')\n",
    "\n",
    "try:\n",
    "    save_folder_output_roiMri = Path(save_folder_output, 'roiMRI')\n",
    "    save_folder_output_roiMri.mkdir()\n",
    "    \n",
    "    for i in range(roi_data.shape[-1]):\n",
    "        img_name = Path(save_folder_output_roiMri, 'roiImg_Z{}.png'.format(i))\n",
    "        img_save = roi_data[:,:,i]/roi_data[:,:,i].max()*255 if(roi_data[:,:,i].max() != 0) else roi_data[:,:,i]\n",
    "        img_save = img_save.astype(np.uint8)\n",
    "        cv2.imwrite(img_name, img_save)\n",
    "\n",
    "    print(\"ROIs Images Saved!\")\n",
    "except Exception as e:\n",
    "    print(e)"
   ]
  },
  {
   "cell_type": "code",
   "execution_count": 5,
   "id": "80cff262",
   "metadata": {
    "lines_to_next_cell": 0,
    "title": "Predict Tumour"
   },
   "outputs": [
    {
     "name": "stdout",
     "output_type": "stream",
     "text": [
      "\n",
      "0: 320x320 (no detections), 102.5ms\n",
      "1: 320x320 (no detections), 102.5ms\n",
      "2: 320x320 1 tumour-iQcJ, 102.5ms\n",
      "3: 320x320 1 tumour-iQcJ, 102.5ms\n",
      "4: 320x320 1 tumour-iQcJ, 102.5ms\n",
      "5: 320x320 1 tumour-iQcJ, 102.5ms\n",
      "6: 320x320 (no detections), 102.5ms\n",
      "7: 320x320 (no detections), 102.5ms\n",
      "8: 320x320 (no detections), 102.5ms\n",
      "9: 320x320 (no detections), 102.5ms\n",
      "Speed: 0.5ms preprocess, 102.5ms inference, 0.5ms postprocess per image at shape (1, 3, 320, 320)\n",
      "Tumour Search Completed!\n"
     ]
    }
   ],
   "source": [
    "# =============================================================================\n",
    "# Tumour Segmentation\n",
    "# load model\n",
    "model = segmentTumour(model_path)\n",
    "\n",
    "x_input = []\n",
    "for i in range(roi_data.shape[-1]):\n",
    "    image = cv2.cvtColor(roi_data[:,:,i].astype(np.uint8), cv2.COLOR_GRAY2RGB)\n",
    "    x_input.append(image)\n",
    "results = model.predTumour(x_input)\n",
    "print(\"Tumour Search Completed!\")"
   ]
  },
  {
   "cell_type": "code",
   "execution_count": 12,
   "id": "b43f9b79-c9b4-4e3f-a45d-5af2638388e6",
   "metadata": {},
   "outputs": [
    {
     "name": "stdout",
     "output_type": "stream",
     "text": [
      "Summary generated!\n"
     ]
    }
   ],
   "source": [
    "# Segmentation\n",
    "summary = model.segmentSummary()\n",
    "       \n",
    "# DICE Score\n",
    "dice = model.diceScore(mask_data)\n",
    "\n",
    "# Tumour plots\n",
    "predImg = model.tumourPlots()\n",
    "\n",
    "# Tumour features\n",
    "tfeatures = model.tumourFeatures()\n",
    "\n",
    "print(\"Summary generated!\")"
   ]
  },
  {
   "cell_type": "code",
   "execution_count": 13,
   "id": "42fabcd2-c2b2-4cc6-bf05-7b0ad201f113",
   "metadata": {},
   "outputs": [
    {
     "name": "stdout",
     "output_type": "stream",
     "text": [
      "[{'file': 'roiImg_Z0.png', 'area': '-', 'perimeter': '-', 'center': '-'}, {'file': 'roiImg_Z1.png', 'area': '-', 'perimeter': '-', 'center': '-'}, {'file': 'roiImg_Z2.png', 'area': [1492.0], 'perimeter': [181.39696860313416], 'center': [(67, 148)]}, {'file': 'roiImg_Z3.png', 'area': [2153.5], 'perimeter': [188.1248904466629], 'center': [(71, 150)]}, {'file': 'roiImg_Z4.png', 'area': [2044.0], 'perimeter': [182.71067690849304], 'center': [(71, 150)]}, {'file': 'roiImg_Z5.png', 'area': [1122.0], 'perimeter': [136.42640614509583], 'center': [(70, 148)]}, {'file': 'roiImg_Z6.png', 'area': '-', 'perimeter': '-', 'center': '-'}, {'file': 'roiImg_Z7.png', 'area': '-', 'perimeter': '-', 'center': '-'}, {'file': 'roiImg_Z8.png', 'area': '-', 'perimeter': '-', 'center': '-'}, {'file': 'roiImg_Z9.png', 'area': '-', 'perimeter': '-', 'center': '-'}]\n"
     ]
    }
   ],
   "source": [
    "print(tfeatures)"
   ]
  },
  {
   "cell_type": "code",
   "execution_count": 14,
   "id": "8bbb6e0c",
   "metadata": {
    "title": "Save results"
   },
   "outputs": [
    {
     "name": "stdout",
     "output_type": "stream",
     "text": [
      "Prediction and Features Saved!\n"
     ]
    }
   ],
   "source": [
    "# =============================================================================\n",
    "## results summary\n",
    "# summary csv   : imgName, box, class, confidence, class name, segments\n",
    "# dice_score\n",
    "# image: pred with tumour\n",
    "\n",
    "save_folder = Path('.')\n",
    "save_folder_output = Path(save_folder, 'output')\n",
    "\n",
    "try:\n",
    "    # CSVs\n",
    "    save_folder_output_resultsMri = Path(save_folder_output, 'resultsMRI')\n",
    "    save_folder_output_resultsMri.mkdir()\n",
    "    \n",
    "    # summary csv\n",
    "    keys = summary[0].keys()\n",
    "    with open(Path(save_folder_output_resultsMri, 'summary.csv'), 'w', newline='') as f:\n",
    "        dict_writer = csv.DictWriter(f, keys)\n",
    "        dict_writer.writeheader()\n",
    "        dict_writer.writerows(summary)\n",
    "    \n",
    "    # dice_score\n",
    "    keys = dice[0].keys()\n",
    "    with open(Path(save_folder_output_resultsMri, 'dice_score.csv'), 'w', newline='') as f:\n",
    "        dict_writer = csv.DictWriter(f, keys)\n",
    "        dict_writer.writeheader()\n",
    "        dict_writer.writerows(dice)\n",
    "\n",
    "    # Tumour features\n",
    "    keys = tfeatures[0].keys()\n",
    "    with open(Path(save_folder_output_resultsMri, 'tfeatures.csv'), 'w', newline='') as f:\n",
    "        dict_writer = csv.DictWriter(f, keys)\n",
    "        dict_writer.writeheader()\n",
    "        dict_writer.writerows(tfeatures)\n",
    "    \n",
    "    # # Segmentation images\n",
    "    save_folder_output_resultspredImg = Path(save_folder_output, 'predImg')\n",
    "    save_folder_output_resultspredImg.mkdir()\n",
    "    \n",
    "    # predImages\n",
    "    for i in range(len(predImg)):\n",
    "        img_name = Path(save_folder_output_resultspredImg, 'predImg_Z{}.png'.format(i))\n",
    "        cv2.imwrite(img_name, predImg[i]['predImg'])\n",
    "\n",
    "    print(\"Prediction and Features Saved!\")\n",
    "except Exception as e:\n",
    "    print(e)"
   ]
  }
 ],
 "metadata": {
  "jupytext": {
   "cell_metadata_filter": "title,-all",
   "encoding": "# -*- coding: utf-8 -*-",
   "main_language": "python",
   "notebook_metadata_filter": "-all"
  },
  "kernelspec": {
   "display_name": "Python 3 (ipykernel)",
   "language": "python",
   "name": "python3"
  },
  "language_info": {
   "codemirror_mode": {
    "name": "ipython",
    "version": 3
   },
   "file_extension": ".py",
   "mimetype": "text/x-python",
   "name": "python",
   "nbconvert_exporter": "python",
   "pygments_lexer": "ipython3",
   "version": "3.11.9"
  }
 },
 "nbformat": 4,
 "nbformat_minor": 5
}
